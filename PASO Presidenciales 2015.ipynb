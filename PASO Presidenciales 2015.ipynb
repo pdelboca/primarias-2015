{
 "cells": [
  {
   "cell_type": "code",
   "execution_count": 2,
   "metadata": {
    "collapsed": false
   },
   "outputs": [
    {
     "name": "stdout",
     "output_type": "stream",
     "text": [
      "Populating the interactive namespace from numpy and matplotlib\n"
     ]
    }
   ],
   "source": [
    "import pandas as pd\n",
    "%pylab inline"
   ]
  },
  {
   "cell_type": "markdown",
   "metadata": {},
   "source": [
    "### Read and Merge Data"
   ]
  },
  {
   "cell_type": "code",
   "execution_count": 17,
   "metadata": {
    "collapsed": false
   },
   "outputs": [],
   "source": [
    "nom_partidos = pd.read_csv('./data/NomPartidos', encoding='iso-8859-1')\n",
    "mesas_presidente = pd.read_csv('./data/MesasCandidaturaPresidente', encoding='iso-8859-1')\n",
    "nom_ambitos = pd.read_csv('./data/NomAmbitos', encoding='iso-8859-1')\n",
    "\n",
    "nom_partidos.replace({'á': 'a','é': 'e','í': 'i','ó': 'o','ú': 'u'}, inplace=True, regex=True)\n",
    "nom_ambitos.replace({'á': 'a','é': 'e','í': 'i','ó': 'o','ú': 'u'}, inplace=True, regex=True)\n",
    "\n",
    "m1 = pd.merge(nom_partidos, mesas_presidente, left_on='parCodigo', right_on='vot_parCodigo')\n",
    "votos_presidente_complete = pd.merge(m1, nom_ambitos, left_on=['vot_proCodigoProvincia','vot_depCodigoDepartamento'], right_on=['depCodigoProvincia', 'depCodigoDepartamento'])\n",
    "votos_presidente_complete = pd.DataFrame(votos_presidente_complete)\n",
    "\n",
    "columns = ['vot_proCodigoProvincia','depNombre', 'vot_munCodigoMunicipio', 'vot_mesCodigoCircuito', 'vot_mesCodigoMesa','parSiglas', 'vot_parCodigo', 'votVotosPartido']\n",
    "votos_presidente = votos_presidente_complete[columns]"
   ]
  },
  {
   "cell_type": "markdown",
   "metadata": {},
   "source": [
    "### Busqueda de mesas con posibles errores."
   ]
  },
  {
   "cell_type": "code",
   "execution_count": 48,
   "metadata": {
    "collapsed": false
   },
   "outputs": [
    {
     "data": {
      "text/plain": [
       "array([u'MOVIMIENTO AL SOCIALISMO ', u'MOVIMIENTO DE ACCION VECI',\n",
       "       u'PARTIDO POPULAR          ', u'ALIANZA FRENTE PARA LA VI',\n",
       "       u'ALIANZA PROGRESISTAS     ', u'ALIANZA COMPROMISO FEDERA',\n",
       "       u'MST - NUEVA IZQUIERDA    ', u'ALIANZA CAMBIEMOS        ',\n",
       "       u'ALIANZA FRENTE POPULAR   ', u'ALIANZA FRENTE DE IZQUIER',\n",
       "       u'ALIANZA UNIDOS POR UNA NU'], dtype=object)"
      ]
     },
     "execution_count": 48,
     "metadata": {},
     "output_type": "execute_result"
    }
   ],
   "source": [
    "votos_presidente.parSiglas.unique()"
   ]
  },
  {
   "cell_type": "markdown",
   "metadata": {},
   "source": [
    "##### Cantidad de Mesas con 0 votos registrados"
   ]
  },
  {
   "cell_type": "code",
   "execution_count": 50,
   "metadata": {
    "collapsed": false
   },
   "outputs": [
    {
     "name": "stdout",
     "output_type": "stream",
     "text": [
      "Cant Mesas donde el FPV saco 0 votos:  3697\n",
      "Cant Mesas donde Cambiemos saco 0 votos:  3750\n",
      "Cant Mesas donde UNA saco 0 votos:  4106\n"
     ]
    }
   ],
   "source": [
    "print \"Cant Mesas donde el FPV saco 0 votos: \", sum(votos_presidente[votos_presidente.parSiglas == \"ALIANZA FRENTE PARA LA VI\"].votVotosPartido == 0)\n",
    "print \"Cant Mesas donde Cambiemos saco 0 votos: \", sum(votos_presidente[votos_presidente.parSiglas == \"ALIANZA CAMBIEMOS        \"].votVotosPartido == 0)\n",
    "print \"Cant Mesas donde UNA saco 0 votos: \", sum(votos_presidente[votos_presidente.parSiglas == \"ALIANZA UNIDOS POR UNA NU\"].votVotosPartido == 0)"
   ]
  },
  {
   "cell_type": "markdown",
   "metadata": {},
   "source": [
    "##### Listado de mesas donde hay 0 votos para esos partidos"
   ]
  },
  {
   "cell_type": "code",
   "execution_count": 57,
   "metadata": {
    "collapsed": false
   },
   "outputs": [],
   "source": [
    "mesas_sin_votos_fpv = votos_presidente[(votos_presidente.parSiglas == \"ALIANZA FRENTE PARA LA VI\") & (votos_presidente.votVotosPartido == 0)]\n",
    "mesas_sin_votos_cambiemos = votos_presidente[(votos_presidente.parSiglas == \"ALIANZA CAMBIEMOS        \") & (votos_presidente.votVotosPartido == 0)]\n",
    "mesas_sin_votos_una = votos_presidente[(votos_presidente.parSiglas == \"ALIANZA UNIDOS POR UNA NU\") & (votos_presidente.votVotosPartido == 0)]"
   ]
  },
  {
   "cell_type": "markdown",
   "metadata": {},
   "source": [
    "##### Top N Mesas con mayor cantidad de votos"
   ]
  },
  {
   "cell_type": "code",
   "execution_count": 67,
   "metadata": {
    "collapsed": false
   },
   "outputs": [
    {
     "data": {
      "text/html": [
       "<div style=\"max-height:1000px;max-width:1500px;overflow:auto;\">\n",
       "<table border=\"1\" class=\"dataframe\">\n",
       "  <thead>\n",
       "    <tr style=\"text-align: right;\">\n",
       "      <th></th>\n",
       "      <th>vot_proCodigoProvincia</th>\n",
       "      <th>depNombre</th>\n",
       "      <th>vot_munCodigoMunicipio</th>\n",
       "      <th>vot_mesCodigoCircuito</th>\n",
       "      <th>vot_mesCodigoMesa</th>\n",
       "      <th>parSiglas</th>\n",
       "      <th>vot_parCodigo</th>\n",
       "      <th>votVotosPartido</th>\n",
       "    </tr>\n",
       "  </thead>\n",
       "  <tbody>\n",
       "    <tr>\n",
       "      <th>176302</th>\n",
       "      <td>2</td>\n",
       "      <td>General Madariaga</td>\n",
       "      <td>47</td>\n",
       "      <td>0340</td>\n",
       "      <td>18</td>\n",
       "      <td>ALIANZA PROGRESISTAS</td>\n",
       "      <td>132</td>\n",
       "      <td>805</td>\n",
       "    </tr>\n",
       "    <tr>\n",
       "      <th>231994</th>\n",
       "      <td>2</td>\n",
       "      <td>Matanza</td>\n",
       "      <td>61</td>\n",
       "      <td>0635E</td>\n",
       "      <td>2720</td>\n",
       "      <td>ALIANZA FRENTE PARA LA VI</td>\n",
       "      <td>131</td>\n",
       "      <td>793</td>\n",
       "    </tr>\n",
       "    <tr>\n",
       "      <th>394175</th>\n",
       "      <td>2</td>\n",
       "      <td>San Isidro</td>\n",
       "      <td>106</td>\n",
       "      <td>0892</td>\n",
       "      <td>398</td>\n",
       "      <td>ALIANZA CAMBIEMOS</td>\n",
       "      <td>135</td>\n",
       "      <td>757</td>\n",
       "    </tr>\n",
       "    <tr>\n",
       "      <th>188595</th>\n",
       "      <td>2</td>\n",
       "      <td>General Pueyrredon</td>\n",
       "      <td>50</td>\n",
       "      <td>0364</td>\n",
       "      <td>112</td>\n",
       "      <td>ALIANZA CAMBIEMOS</td>\n",
       "      <td>135</td>\n",
       "      <td>682</td>\n",
       "    </tr>\n",
       "    <tr>\n",
       "      <th>339617</th>\n",
       "      <td>2</td>\n",
       "      <td>Moron</td>\n",
       "      <td>80</td>\n",
       "      <td>0673</td>\n",
       "      <td>662</td>\n",
       "      <td>ALIANZA CAMBIEMOS</td>\n",
       "      <td>135</td>\n",
       "      <td>678</td>\n",
       "    </tr>\n",
       "    <tr>\n",
       "      <th>207739</th>\n",
       "      <td>2</td>\n",
       "      <td>General San Martin</td>\n",
       "      <td>52</td>\n",
       "      <td>0388</td>\n",
       "      <td>913</td>\n",
       "      <td>ALIANZA UNIDOS POR UNA NU</td>\n",
       "      <td>138</td>\n",
       "      <td>660</td>\n",
       "    </tr>\n",
       "    <tr>\n",
       "      <th>281272</th>\n",
       "      <td>2</td>\n",
       "      <td>La Plata</td>\n",
       "      <td>63</td>\n",
       "      <td>0496</td>\n",
       "      <td>391</td>\n",
       "      <td>ALIANZA UNIDOS POR UNA NU</td>\n",
       "      <td>138</td>\n",
       "      <td>657</td>\n",
       "    </tr>\n",
       "    <tr>\n",
       "      <th>91411</th>\n",
       "      <td>2</td>\n",
       "      <td>Almirante Brown</td>\n",
       "      <td>3</td>\n",
       "      <td>0021A</td>\n",
       "      <td>888</td>\n",
       "      <td>ALIANZA CAMBIEMOS</td>\n",
       "      <td>135</td>\n",
       "      <td>645</td>\n",
       "    </tr>\n",
       "    <tr>\n",
       "      <th>101578</th>\n",
       "      <td>2</td>\n",
       "      <td>Avellaneda</td>\n",
       "      <td>4</td>\n",
       "      <td>0030</td>\n",
       "      <td>184</td>\n",
       "      <td>ALIANZA CAMBIEMOS</td>\n",
       "      <td>135</td>\n",
       "      <td>644</td>\n",
       "    </tr>\n",
       "    <tr>\n",
       "      <th>704958</th>\n",
       "      <td>10</td>\n",
       "      <td>El Carmen</td>\n",
       "      <td>36</td>\n",
       "      <td>0031</td>\n",
       "      <td>821</td>\n",
       "      <td>ALIANZA CAMBIEMOS</td>\n",
       "      <td>135</td>\n",
       "      <td>386</td>\n",
       "    </tr>\n",
       "  </tbody>\n",
       "</table>\n",
       "</div>"
      ],
      "text/plain": [
       "        vot_proCodigoProvincia           depNombre  vot_munCodigoMunicipio  \\\n",
       "176302                       2   General Madariaga                      47   \n",
       "231994                       2             Matanza                      61   \n",
       "394175                       2          San Isidro                     106   \n",
       "188595                       2  General Pueyrredon                      50   \n",
       "339617                       2               Moron                      80   \n",
       "207739                       2  General San Martin                      52   \n",
       "281272                       2            La Plata                      63   \n",
       "91411                        2     Almirante Brown                       3   \n",
       "101578                       2          Avellaneda                       4   \n",
       "704958                      10           El Carmen                      36   \n",
       "\n",
       "       vot_mesCodigoCircuito  vot_mesCodigoMesa                  parSiglas  \\\n",
       "176302                 0340                  18  ALIANZA PROGRESISTAS        \n",
       "231994                 0635E               2720  ALIANZA FRENTE PARA LA VI   \n",
       "394175                 0892                 398  ALIANZA CAMBIEMOS           \n",
       "188595                 0364                 112  ALIANZA CAMBIEMOS           \n",
       "339617                 0673                 662  ALIANZA CAMBIEMOS           \n",
       "207739                 0388                 913  ALIANZA UNIDOS POR UNA NU   \n",
       "281272                 0496                 391  ALIANZA UNIDOS POR UNA NU   \n",
       "91411                  0021A                888  ALIANZA CAMBIEMOS           \n",
       "101578                 0030                 184  ALIANZA CAMBIEMOS           \n",
       "704958                 0031                 821  ALIANZA CAMBIEMOS           \n",
       "\n",
       "        vot_parCodigo  votVotosPartido  \n",
       "176302            132              805  \n",
       "231994            131              793  \n",
       "394175            135              757  \n",
       "188595            135              682  \n",
       "339617            135              678  \n",
       "207739            138              660  \n",
       "281272            138              657  \n",
       "91411             135              645  \n",
       "101578            135              644  \n",
       "704958            135              386  "
      ]
     },
     "execution_count": 67,
     "metadata": {},
     "output_type": "execute_result"
    }
   ],
   "source": [
    "cantidad_mesas = 10\n",
    "votos_presidente.loc[votos_presidente.votVotosPartido.order(ascending=False).head(cantidad_mesas).index]"
   ]
  },
  {
   "cell_type": "code",
   "execution_count": 71,
   "metadata": {
    "collapsed": false
   },
   "outputs": [
    {
     "data": {
      "text/plain": [
       "count    1059707.000000\n",
       "mean          20.892436\n",
       "std           36.606952\n",
       "min            0.000000\n",
       "25%            0.000000\n",
       "50%            2.000000\n",
       "75%           24.000000\n",
       "max          805.000000\n",
       "Name: votVotosPartido, dtype: float64"
      ]
     },
     "execution_count": 71,
     "metadata": {},
     "output_type": "execute_result"
    }
   ],
   "source": [
    "votos_presidente.votVotosPartido.describe()"
   ]
  }
 ],
 "metadata": {
  "kernelspec": {
   "display_name": "Python 2",
   "language": "python",
   "name": "python2"
  },
  "language_info": {
   "codemirror_mode": {
    "name": "ipython",
    "version": 2
   },
   "file_extension": ".py",
   "mimetype": "text/x-python",
   "name": "python",
   "nbconvert_exporter": "python",
   "pygments_lexer": "ipython2",
   "version": "2.7.8"
  }
 },
 "nbformat": 4,
 "nbformat_minor": 0
}
